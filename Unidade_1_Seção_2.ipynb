{
  "nbformat": 4,
  "nbformat_minor": 0,
  "metadata": {
    "colab": {
      "provenance": [],
      "authorship_tag": "ABX9TyNy5wRR5OBWYljPBpnx/Noj",
      "include_colab_link": true
    },
    "kernelspec": {
      "name": "python3",
      "display_name": "Python 3"
    },
    "language_info": {
      "name": "python"
    }
  },
  "cells": [
    {
      "cell_type": "markdown",
      "metadata": {
        "id": "view-in-github",
        "colab_type": "text"
      },
      "source": [
        "<a href=\"https://colab.research.google.com/github/gustavozonato/ARTIGO-/blob/main/Unidade_1_Se%C3%A7%C3%A3o_2.ipynb\" target=\"_parent\"><img src=\"https://colab.research.google.com/assets/colab-badge.svg\" alt=\"Open In Colab\"/></a>"
      ]
    },
    {
      "cell_type": "markdown",
      "source": [
        "CLASSIFICAÇÃO DOS SISTEMAS COMPUTACIONAIS\n",
        "\n",
        "\n",
        "1 INTRODUÇÃO\n",
        "\n",
        "A classificação adequada dos sistemas computacionais é um levantamento crucial no início de qualquer projeto. Esta definição não apenas auxilia na estimativa de custos e tempo de desenvolvimento, mas também orienta a escolha das ferramentas mais apropriadas para a implementação. Os sistemas computacionais podem ser categorizados, fundamentalmente, em Sistemas Centralizados e Sistemas Paralelos.\n",
        "\n",
        "\n",
        "2 SISTEMAS CENTRALIZADOS\n",
        "\n",
        "Sistemas centralizados são definidos pelo uso de computadores de grande porte, comumente chamados de mainframes. O objetivo principal desses sistemas é processar grandes volumes de informações em um único ponto central.\n",
        "O usuário interage com o mainframe, que, por sua vez, direciona o acesso a recursos como bancos de dados ou servidores de aplicação.\n",
        "As vantagens inerentes a essa arquitetura incluem alta segurança, estabilidade e robustez. Além disso, o gerenciamento é facilitado, dado que toda a informação reside em um único servidor.\n",
        "Entretanto, as desvantagens incluem a dependência de um único servidor, o que prejudica a escalabilidade e a produtividade. Outras limitações notáveis são a utilização frequente de linguagens de programação antigas, o alto valor de implementação, a falta de interface gráfica e a exigência de salas especiais para a alocação física do servidor de grande porte.\n",
        "\n",
        "\n",
        "3 SISTEMAS PARALELOS\n",
        "\n",
        "Os sistemas paralelos visam executar, de forma simultânea, múltiplas partes de uma mesma aplicação, geralmente empregando mais de um processador. Frequentemente, essa arquitetura é baseada em clusters, que são definidos como conjuntos de máquinas interligadas que compartilham a carga de processamento.\n",
        "Em comparação com os sistemas centralizados, os sistemas paralelos oferecem grandes benefícios em termos de produtividade, escalabilidade e economia de custos.\n",
        "Em contrapartida, as desvantagens estão relacionadas à dificuldade de gerenciamento e à perda de segurança em relação ao modelo centralizado, uma vez que os dados são processados em diversos locais simultaneamente.\n",
        "Os sistemas paralelos são subdivididos em duas categorias principais: Fortemente Acoplados e Fracamente Acoplados.\n",
        "\n",
        "3.1 Sistemas Paralelos Fortemente Acoplados\n",
        "Estes sistemas possuem características que promovem uma integração estrita entre os componentes:\n",
        "• A comunicação entre processadores ocorre através de barramentos internos.\n",
        "• Os processadores compartilham a mesma memória principal (RAM).\n",
        "Essa estrutura permite tanto a execução simultânea de vários programas quanto a divisão de um programa de grande complexidade (\"pesado\") em partes menores para processamento paralelo.\n",
        "\n",
        "3.2 Sistemas Paralelos Fracamente Acoplados\n",
        "Sistemas fracamente acoplados englobam as arquiteturas de maior escala, sendo caracterizados por serem conectados através de uma rede de computadores.\n",
        "O termo \"fracamente acoplados\" deriva do fato de que a interligação é realizada via rede e não internamente ao hardware, o que lhes confere uma característica de acoplamento mais flexível. Esta categoria inclui sistemas que utilizam arquiteturas cliente-servidor, ponto a ponto (P2P) ou descentralizadas.\n",
        "É importante notar que os sistemas distribuídos pertencem a esta categoria, herdando suas características, embora apresentem uma integração mais robusta entre as máquinas.\n",
        "As principais vantagens deste modelo são o desempenho, a flexibilidade e a escalabilidade. No entanto, as desvantagens incluem a menor velocidade na transferência de dados (em comparação com sistemas fortemente acoplados) e a segurança mais vulnerável.\n",
        "\n",
        "\n",
        "REFERÊNCIAS\n",
        "UNIDADE 1 SEÇÃO 2. Classificação dos Sistemas Computacionais. Excertos do material didático fornecido, [s.d.].\n",
        "\n",
        "\n"
      ],
      "metadata": {
        "id": "Mv5gUk35tO5u"
      }
    }
  ]
}